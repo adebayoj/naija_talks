{
 "cells": [
  {
   "cell_type": "code",
   "execution_count": 1,
   "metadata": {
    "collapsed": true
   },
   "outputs": [],
   "source": [
    "# special IPython command to prepare the notebook for matplotlib\n",
    "%matplotlib inline \n",
    "\n",
    "from collections import defaultdict\n",
    "\n",
    "import pandas as pd\n",
    "import matplotlib.pyplot as plt\n",
    "import requests\n",
    "from pattern import web\n",
    "from pattern.web import strip_between\n",
    "from pattern.web import plaintext\n",
    "\n",
    "\n",
    "import re"
   ]
  },
  {
   "cell_type": "code",
   "execution_count": null,
   "metadata": {
    "collapsed": true
   },
   "outputs": [],
   "source": []
  },
  {
   "cell_type": "code",
   "execution_count": 2,
   "metadata": {
    "collapsed": true
   },
   "outputs": [],
   "source": [
    "def get_list_of_dates_gender_posts(table_with_posts_html):\n",
    "    date_list = []\n",
    "    gender_list = []\n",
    "    post_list = []\n",
    "    \n",
    "    tbl_rows = [row for row in posts_table.by_tag('tr') if row.by_tag('td')]\n",
    "    \n",
    "    for idx, row in enumerate(tbl_rows):\n",
    "        if row.by_class(\"bold l pu\"):\n",
    "            date_and_gender = row.by_tag('span')\n",
    "            full_date = \"\"\n",
    "            gender = \"\"\n",
    "            if len(date_and_gender) == 2:\n",
    "                gender = plaintext(date_and_gender[0].content).strip().split()[0]\n",
    "                date = plaintext(date_and_gender[1].content).split()\n",
    "                if len(date)==4:\n",
    "                    year = '2016'\n",
    "                    day = date[-1]\n",
    "                    month = month_dictionary[date[-2].lower()]\n",
    "                    full_date = \"-\".join([str(day), str(month), year])\n",
    "                elif len(date)==5:\n",
    "                    year = date[-1]\n",
    "                    day = date[-2].strip(\",\")\n",
    "                    month = month_dictionary[date[-3].lower()]\n",
    "                    full_date = \"-\".join([str(day), str(month), str(year)])\n",
    "            elif len(date_and_gender) == 1:\n",
    "                date = plaintext(date_and_gender[0].content).split()\n",
    "                if len(date)==4:\n",
    "                    year = '2016'\n",
    "                    day = date[-1].strip(\",\")\n",
    "                    month = month_dictionary[date[-2].lower()]\n",
    "                    full_date = \"-\".join([str(day), str(month), year])\n",
    "                elif len(date)==5:\n",
    "                    year = date[-1]\n",
    "                    day = date[-2].strip(\",\")\n",
    "                    month = month_dictionary[date[-3].lower()]\n",
    "                    full_date = \"-\".join([str(day), str(month), str(year)])\n",
    "            date_list.append(full_date)\n",
    "            gender_list.append(gender)\n",
    "        elif row.by_class(\"l w pd\"):\n",
    "            content_in_div = row.by_tag('td')[0].by_class('narrow')[0].content\n",
    "            new_html = strip_between('<blockquote>', '</blockquote>', content_in_div)\n",
    "            new_html = (plaintext(new_html))\n",
    "            new_string = new_html.replace(\"\\n\", \" \")\n",
    "            result = re.sub(r\"http\\S+\", \"\", new_string)\n",
    "            result = result.encode('utf-8', 'ignore')\n",
    "            result = result.decode('ascii', 'ignore')\n",
    "            post_list.append(result)\n",
    "            \n",
    "    return date_list, gender_list, post_list"
   ]
  },
  {
   "cell_type": "code",
   "execution_count": 3,
   "metadata": {
    "collapsed": false
   },
   "outputs": [],
   "source": [
    "#first check that the length of the date, gender, and post lists are the same\n",
    "def write_list_to_string(dates, gender, posts):\n",
    "    complete_string = \"\"\n",
    "    for i in range(len(dates)):\n",
    "        output = \"|\".join([dates[i], gender[i], posts[i]])\n",
    "        complete_string = complete_string + output + \"\\n\"\n",
    "    return complete_string"
   ]
  },
  {
   "cell_type": "code",
   "execution_count": null,
   "metadata": {
    "collapsed": true
   },
   "outputs": [],
   "source": []
  },
  {
   "cell_type": "code",
   "execution_count": 4,
   "metadata": {
    "collapsed": true
   },
   "outputs": [],
   "source": [
    "month_dictionary = {\"jan\":1, \"feb\":2, \"mar\":3, \"apr\":4, \"may\":5, \"jun\":6, \"jul\":7, \"aug\":8, \"sep\":9,\\\n",
    "                    \"oct\":10, \"nov\":11, \"dec\":12}"
   ]
  },
  {
   "cell_type": "code",
   "execution_count": 5,
   "metadata": {
    "collapsed": true
   },
   "outputs": [],
   "source": [
    "base_url = 'http://www.nairaland.com/{}/'"
   ]
  },
  {
   "cell_type": "code",
   "execution_count": 6,
   "metadata": {
    "collapsed": false
   },
   "outputs": [
    {
     "name": "stdout",
     "output_type": "stream",
     "text": [
      "size of dates and posts ---->>32\n",
      "no posts for this url ----->>http://www.nairaland.com/5/\n",
      "size of dates and posts ---->>30\n",
      "size of dates and posts ---->>32\n",
      "size of dates and posts ---->>31\n",
      "size of dates and posts ---->>25\n",
      "no posts for this url ----->>http://www.nairaland.com/10/\n",
      "no posts for this url ----->>http://www.nairaland.com/11/\n",
      "no posts for this url ----->>http://www.nairaland.com/12/\n",
      "no posts for this url ----->>http://www.nairaland.com/13/\n",
      "size of dates and posts ---->>11\n",
      "size of dates and posts ---->>32\n",
      "size of dates and posts ---->>30\n",
      "size of dates and posts ---->>32\n",
      "size of dates and posts ---->>18\n",
      "size of dates and posts ---->>31\n",
      "size of dates and posts ---->>5\n",
      "no posts for this url ----->>http://www.nairaland.com/21/\n",
      "no posts for this url ----->>http://www.nairaland.com/22/\n",
      "size of dates and posts ---->>32\n",
      "size of dates and posts ---->>32\n",
      "size of dates and posts ---->>32\n",
      "size of dates and posts ---->>10\n",
      "size of dates and posts ---->>32\n",
      "size of dates and posts ---->>32\n",
      "size of dates and posts ---->>28\n",
      "size of dates and posts ---->>32\n",
      "no posts for this url ----->>http://www.nairaland.com/31/\n",
      "size of dates and posts ---->>31\n",
      "size of dates and posts ---->>32\n",
      "size of dates and posts ---->>32\n",
      "size of dates and posts ---->>32\n",
      "no posts for this url ----->>http://www.nairaland.com/36/\n",
      "size of dates and posts ---->>32\n",
      "size of dates and posts ---->>6\n",
      "size of dates and posts ---->>14\n",
      "size of dates and posts ---->>32\n",
      "no posts for this url ----->>http://www.nairaland.com/41/\n",
      "size of dates and posts ---->>18\n",
      "size of dates and posts ---->>21\n",
      "no posts for this url ----->>http://www.nairaland.com/44/\n",
      "size of dates and posts ---->>19\n",
      "no posts for this url ----->>http://www.nairaland.com/46/\n",
      "size of dates and posts ---->>4\n",
      "size of dates and posts ---->>22\n",
      "size of dates and posts ---->>32\n",
      "size of dates and posts ---->>32\n",
      "no posts for this url ----->>http://www.nairaland.com/51/\n",
      "no posts for this url ----->>http://www.nairaland.com/52/\n",
      "no posts for this url ----->>http://www.nairaland.com/53/\n",
      "no posts for this url ----->>http://www.nairaland.com/54/\n",
      "no posts for this url ----->>http://www.nairaland.com/55/\n",
      "size of dates and posts ---->>32\n",
      "no posts for this url ----->>http://www.nairaland.com/57/\n",
      "size of dates and posts ---->>32\n",
      "size of dates and posts ---->>32\n",
      "size of dates and posts ---->>23\n",
      "size of dates and posts ---->>32\n",
      "size of dates and posts ---->>3\n",
      "size of dates and posts ---->>32\n",
      "size of dates and posts ---->>32\n",
      "size of dates and posts ---->>32\n",
      "no posts for this url ----->>http://www.nairaland.com/66/\n",
      "size of dates and posts ---->>11\n",
      "size of dates and posts ---->>10\n",
      "size of dates and posts ---->>32\n",
      "no posts for this url ----->>http://www.nairaland.com/70/\n",
      "size of dates and posts ---->>32\n",
      "no posts for this url ----->>http://www.nairaland.com/72/\n",
      "no posts for this url ----->>http://www.nairaland.com/73/\n",
      "no posts for this url ----->>http://www.nairaland.com/74/\n",
      "size of dates and posts ---->>10\n",
      "no posts for this url ----->>http://www.nairaland.com/76/\n",
      "no posts for this url ----->>http://www.nairaland.com/77/\n",
      "size of dates and posts ---->>32\n",
      "no posts for this url ----->>http://www.nairaland.com/79/\n",
      "size of dates and posts ---->>32\n",
      "size of dates and posts ---->>25\n",
      "size of dates and posts ---->>12\n",
      "size of dates and posts ---->>9\n",
      "size of dates and posts ---->>32\n",
      "size of dates and posts ---->>32\n",
      "size of dates and posts ---->>32\n",
      "size of dates and posts ---->>10\n",
      "no posts for this url ----->>http://www.nairaland.com/88/\n",
      "size of dates and posts ---->>32\n",
      "no posts for this url ----->>http://www.nairaland.com/90/\n",
      "size of dates and posts ---->>13\n",
      "size of dates and posts ---->>4\n",
      "size of dates and posts ---->>17\n",
      "size of dates and posts ---->>10\n",
      "size of dates and posts ---->>11\n",
      "no posts for this url ----->>http://www.nairaland.com/96/\n",
      "size of dates and posts ---->>15\n",
      "size of dates and posts ---->>19\n",
      "size of dates and posts ---->>32\n"
     ]
    }
   ],
   "source": [
    "output_file = open('nairaland_data.txt', 'w')\n",
    "output_file.write(\"Date | Gender | Post \\n\")\n",
    "\n",
    "for i in range(4,100):\n",
    "    url = base_url.format(str(i))\n",
    "    try:\n",
    "        #print url\n",
    "        website_html = requests.get(url).text\n",
    "        #print website_html\n",
    "        dom = web.Element(website_html)\n",
    "        \n",
    "        all_tables_with_summary = [t for t in dom.by_tag('table') \\\n",
    "                                   if 'summary' in t.attributes and t.attributes['summary'] == \"posts\"]\n",
    "        \n",
    "        if len(all_tables_with_summary) == 0:\n",
    "            print \"no posts for this url ----->>\"  + url\n",
    "            continue\n",
    "        else:\n",
    "            #print \"size of the summary table \" + \"---->>\" + str(len(all_tables_with_summary))\n",
    "            posts_table  = all_tables_with_summary[0]\n",
    "            dates, gender, posts = get_list_of_dates_gender_posts(posts_table)\n",
    "            \n",
    "            #check that dates and posts are the same length\n",
    "            if len(dates) == len(posts):\n",
    "                print \"size of dates and posts \" + \"---->>\" + str(len(dates))\n",
    "                #call function\n",
    "                output_text = write_list_to_string(dates, gender, posts)\n",
    "                #print output_text\n",
    "                output_file.write(output_text)\n",
    "            else:\n",
    "                print \"Uneven number of posts/dates for url\"\n",
    "                print url\n",
    "            \n",
    "            \n",
    "    except:\n",
    "        print url\n",
    "        continue\n",
    "output_file.close()"
   ]
  },
  {
   "cell_type": "code",
   "execution_count": null,
   "metadata": {
    "collapsed": true
   },
   "outputs": [],
   "source": []
  },
  {
   "cell_type": "code",
   "execution_count": null,
   "metadata": {
    "collapsed": false
   },
   "outputs": [],
   "source": [
    "\n"
   ]
  }
 ],
 "metadata": {
  "kernelspec": {
   "display_name": "Python 2",
   "language": "python",
   "name": "python2"
  },
  "language_info": {
   "codemirror_mode": {
    "name": "ipython",
    "version": 2
   },
   "file_extension": ".py",
   "mimetype": "text/x-python",
   "name": "python",
   "nbconvert_exporter": "python",
   "pygments_lexer": "ipython2",
   "version": "2.7.6"
  }
 },
 "nbformat": 4,
 "nbformat_minor": 0
}
